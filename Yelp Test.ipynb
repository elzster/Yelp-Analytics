{
 "cells": [
  {
   "cell_type": "code",
   "execution_count": 1,
   "metadata": {},
   "outputs": [],
   "source": [
    "from tinydb import TinyDB, Query\n",
    "import pandas as pd\n",
    "import matplotlib as plt\n",
    "from pprint import pprint\n",
    "import json\n",
    "import requests\n",
    "import numpy as np"
   ]
  },
  {
   "cell_type": "code",
   "execution_count": null,
   "metadata": {},
   "outputs": [],
   "source": [
    "with open(\"business.json\", 'r', encoding='utf-8')as business:\n",
    "    data = json.loads(business.readline())\n",
    "    #data = TinyDB(business.readline())\n",
    "    pprint(data, depth=1)\n",
    "    \n",
    "#     data = json.loads(business.readline())\n",
    "#     pprint(data)"
   ]
  },
  {
   "cell_type": "code",
   "execution_count": null,
   "metadata": {},
   "outputs": [],
   "source": [
    "with open(\"checkin.json\", 'r', encoding='utf-8')as checkin:\n",
    "    checkindata = json.loads(checkin.readline())\n",
    "    #data = TinyDB(business.readline())\n",
    "    pprint(data, depth=1)\n",
    "    \n",
    "#     checkindata = json.loads(checkin.readline())\n",
    "#     pprint(data)"
   ]
  },
  {
   "cell_type": "code",
   "execution_count": null,
   "metadata": {},
   "outputs": [],
   "source": [
    "with open(\"tip.json\", 'r', encoding='utf-8')as tip:\n",
    "    tipdata = json.loads(tip.readline())\n",
    "    #data = TinyDB(business.readline())\n",
    "    pprint(data, depth=1)\n",
    "    \n",
    "    tipdata = json.loads(tip.readline())\n",
    "    pprint(data)\n",
    "    #     for name in data['name']:\n",
    "#         name.append(name)"
   ]
  },
  {
   "cell_type": "code",
   "execution_count": 2,
   "metadata": {},
   "outputs": [],
   "source": [
    "name = []\n",
    "city = []\n",
    "state = []\n",
    "category = []\n",
    "latitude = []\n",
    "longitude = []\n",
    "stars = []\n",
    "review_count = []"
   ]
  },
  {
   "cell_type": "code",
   "execution_count": 3,
   "metadata": {},
   "outputs": [
    {
     "data": {
      "text/html": [
       "<div>\n",
       "<style scoped>\n",
       "    .dataframe tbody tr th:only-of-type {\n",
       "        vertical-align: middle;\n",
       "    }\n",
       "\n",
       "    .dataframe tbody tr th {\n",
       "        vertical-align: top;\n",
       "    }\n",
       "\n",
       "    .dataframe thead th {\n",
       "        text-align: right;\n",
       "    }\n",
       "</style>\n",
       "<table border=\"1\" class=\"dataframe\">\n",
       "  <thead>\n",
       "    <tr style=\"text-align: right;\">\n",
       "      <th></th>\n",
       "      <th>Business</th>\n",
       "      <th>City</th>\n",
       "      <th>State</th>\n",
       "      <th>Category</th>\n",
       "      <th>Latitude</th>\n",
       "      <th>Longitude</th>\n",
       "      <th>Stars</th>\n",
       "    </tr>\n",
       "  </thead>\n",
       "  <tbody>\n",
       "  </tbody>\n",
       "</table>\n",
       "</div>"
      ],
      "text/plain": [
       "Empty DataFrame\n",
       "Columns: [Business, City, State, Category, Latitude, Longitude, Stars]\n",
       "Index: []"
      ]
     },
     "execution_count": 3,
     "metadata": {},
     "output_type": "execute_result"
    }
   ],
   "source": [
    "business_df = pd.DataFrame({\n",
    "    \"Business\" : name,\n",
    "    \"City\": city,\n",
    "    \"State\": state,\n",
    "    \"Category\": category,\n",
    "    \"Latitude\": latitude,\n",
    "    \"Longitude\": longitude,\n",
    "    \"Stars\":stars\n",
    "})\n",
    "business_df"
   ]
  },
  {
   "cell_type": "code",
   "execution_count": 4,
   "metadata": {},
   "outputs": [],
   "source": [
    "with open(\"business.json\", 'r', encoding='utf-8')as business:\n",
    "    line = business.readline()\n",
    "    data = json.loads(line)\n",
    "    name.append(data['name'])\n",
    "    city.append(data['city'])\n",
    "    state.append(data['state'])\n",
    "    category.append(data['categories'])\n",
    "    latitude.append(data['latitude'])\n",
    "    longitude.append(data['longitude'])\n",
    "    stars.append(data['stars'])     \n",
    "\n",
    "#     pprint(data, depth=1)\n",
    "    while line:\n",
    "        data=json.loads(line)\n",
    "        name.append(data['name'])\n",
    "        city.append(data['city'])\n",
    "        state.append(data['state'])\n",
    "        category.append(data['categories'])\n",
    "        latitude.append(data['latitude'])\n",
    "        longitude.append(data['longitude'])\n",
    "        stars.append(data['stars'])                  \n",
    "        line = business.readline()\n",
    "# #         cnt += 1\n",
    "#     pprint(name)"
   ]
  },
  {
   "cell_type": "code",
   "execution_count": null,
   "metadata": {},
   "outputs": [],
   "source": [
    "# with open(\"business.json\", 'r', encoding='utf-8')as business:\n",
    "#     line = business.readline()\n",
    "#     data = json.loads(line)\n",
    "#     business_df = business_df.append({'Business':(data['name']),\n",
    "#                                      'City':(data['city']),\n",
    "#                                       'State':(data['state']),\n",
    "#                                       'Category':(data['categories']),\n",
    "#                                       'Latitude':(data['latitude']),\n",
    "#                                       'Longitude':(data['longitude']),\n",
    "#                                       'Stars':(data['stars'])\n",
    "#                                      },ignore_index=True)\n",
    "# #     pprint(data, depth=1)\n",
    "#     while line:\n",
    "#         business_df = business_df.append({'Business':(data['name']),\n",
    "#                                      'City':(data['city']),\n",
    "#                                       'State':(data['state']),\n",
    "#                                       'Category':(data['categories']),\n",
    "#                                       'Latitude':(data['latitude']),\n",
    "#                                       'Longitude':(data['longitude']),\n",
    "#                                       'Stars':(data['stars'])\n",
    "#                                      },ignore_index=True)\n",
    "#     pprint(name)"
   ]
  },
  {
   "cell_type": "code",
   "execution_count": null,
   "metadata": {},
   "outputs": [],
   "source": []
  },
  {
   "cell_type": "code",
   "execution_count": 6,
   "metadata": {},
   "outputs": [
    {
     "data": {
      "text/plain": [
       "192610"
      ]
     },
     "execution_count": 6,
     "metadata": {},
     "output_type": "execute_result"
    }
   ],
   "source": [
    "(len(city))"
   ]
  },
  {
   "cell_type": "code",
   "execution_count": 5,
   "metadata": {},
   "outputs": [
    {
     "data": {
      "text/plain": [
       "192610"
      ]
     },
     "execution_count": 5,
     "metadata": {},
     "output_type": "execute_result"
    }
   ],
   "source": [
    "(len(state))"
   ]
  },
  {
   "cell_type": "code",
   "execution_count": 7,
   "metadata": {},
   "outputs": [
    {
     "data": {
      "text/plain": [
       "192610"
      ]
     },
     "execution_count": 7,
     "metadata": {},
     "output_type": "execute_result"
    }
   ],
   "source": [
    "(len(category))"
   ]
  },
  {
   "cell_type": "code",
   "execution_count": 8,
   "metadata": {},
   "outputs": [
    {
     "data": {
      "text/plain": [
       "192610"
      ]
     },
     "execution_count": 8,
     "metadata": {},
     "output_type": "execute_result"
    }
   ],
   "source": [
    "(len(latitude))"
   ]
  },
  {
   "cell_type": "code",
   "execution_count": 9,
   "metadata": {},
   "outputs": [
    {
     "data": {
      "text/plain": [
       "192610"
      ]
     },
     "execution_count": 9,
     "metadata": {},
     "output_type": "execute_result"
    }
   ],
   "source": [
    "(len(longitude))"
   ]
  },
  {
   "cell_type": "code",
   "execution_count": 10,
   "metadata": {},
   "outputs": [
    {
     "data": {
      "text/plain": [
       "192610"
      ]
     },
     "execution_count": 10,
     "metadata": {},
     "output_type": "execute_result"
    }
   ],
   "source": [
    "(len(stars))"
   ]
  },
  {
   "cell_type": "code",
   "execution_count": null,
   "metadata": {},
   "outputs": [],
   "source": []
  },
  {
   "cell_type": "code",
   "execution_count": 11,
   "metadata": {},
   "outputs": [],
   "source": [
    "business_df = pd.DataFrame({\n",
    "    \"Business\" : name,\n",
    "    \"City\": city,\n",
    "    \"State\": state,\n",
    "    \"Category\": category,\n",
    "    \"Latitude\": latitude,\n",
    "    \"Longitude\": longitude,\n",
    "    \"Stars\":stars\n",
    "})"
   ]
  },
  {
   "cell_type": "code",
   "execution_count": 13,
   "metadata": {},
   "outputs": [
    {
     "data": {
      "text/html": [
       "<div>\n",
       "<style scoped>\n",
       "    .dataframe tbody tr th:only-of-type {\n",
       "        vertical-align: middle;\n",
       "    }\n",
       "\n",
       "    .dataframe tbody tr th {\n",
       "        vertical-align: top;\n",
       "    }\n",
       "\n",
       "    .dataframe thead th {\n",
       "        text-align: right;\n",
       "    }\n",
       "</style>\n",
       "<table border=\"1\" class=\"dataframe\">\n",
       "  <thead>\n",
       "    <tr style=\"text-align: right;\">\n",
       "      <th></th>\n",
       "      <th>Business</th>\n",
       "      <th>City</th>\n",
       "      <th>State</th>\n",
       "      <th>Category</th>\n",
       "      <th>Latitude</th>\n",
       "      <th>Longitude</th>\n",
       "      <th>Stars</th>\n",
       "    </tr>\n",
       "  </thead>\n",
       "  <tbody>\n",
       "    <tr>\n",
       "      <td>0</td>\n",
       "      <td>Arizona Biltmore Golf Club</td>\n",
       "      <td>Phoenix</td>\n",
       "      <td>AZ</td>\n",
       "      <td>Golf, Active Life</td>\n",
       "      <td>33.522143</td>\n",
       "      <td>-112.018481</td>\n",
       "      <td>3.0</td>\n",
       "    </tr>\n",
       "    <tr>\n",
       "      <td>1</td>\n",
       "      <td>Arizona Biltmore Golf Club</td>\n",
       "      <td>Phoenix</td>\n",
       "      <td>AZ</td>\n",
       "      <td>Golf, Active Life</td>\n",
       "      <td>33.522143</td>\n",
       "      <td>-112.018481</td>\n",
       "      <td>3.0</td>\n",
       "    </tr>\n",
       "    <tr>\n",
       "      <td>2</td>\n",
       "      <td>Emerald Chinese Restaurant</td>\n",
       "      <td>Mississauga</td>\n",
       "      <td>ON</td>\n",
       "      <td>Specialty Food, Restaurants, Dim Sum, Imported...</td>\n",
       "      <td>43.605499</td>\n",
       "      <td>-79.652289</td>\n",
       "      <td>2.5</td>\n",
       "    </tr>\n",
       "    <tr>\n",
       "      <td>3</td>\n",
       "      <td>Musashi Japanese Restaurant</td>\n",
       "      <td>Charlotte</td>\n",
       "      <td>NC</td>\n",
       "      <td>Sushi Bars, Restaurants, Japanese</td>\n",
       "      <td>35.092564</td>\n",
       "      <td>-80.859132</td>\n",
       "      <td>4.0</td>\n",
       "    </tr>\n",
       "    <tr>\n",
       "      <td>4</td>\n",
       "      <td>Farmers Insurance - Paul Lorenz</td>\n",
       "      <td>Goodyear</td>\n",
       "      <td>AZ</td>\n",
       "      <td>Insurance, Financial Services</td>\n",
       "      <td>33.455613</td>\n",
       "      <td>-112.395596</td>\n",
       "      <td>5.0</td>\n",
       "    </tr>\n",
       "  </tbody>\n",
       "</table>\n",
       "</div>"
      ],
      "text/plain": [
       "                          Business         City State  \\\n",
       "0       Arizona Biltmore Golf Club      Phoenix    AZ   \n",
       "1       Arizona Biltmore Golf Club      Phoenix    AZ   \n",
       "2       Emerald Chinese Restaurant  Mississauga    ON   \n",
       "3      Musashi Japanese Restaurant    Charlotte    NC   \n",
       "4  Farmers Insurance - Paul Lorenz     Goodyear    AZ   \n",
       "\n",
       "                                            Category   Latitude   Longitude  \\\n",
       "0                                  Golf, Active Life  33.522143 -112.018481   \n",
       "1                                  Golf, Active Life  33.522143 -112.018481   \n",
       "2  Specialty Food, Restaurants, Dim Sum, Imported...  43.605499  -79.652289   \n",
       "3                  Sushi Bars, Restaurants, Japanese  35.092564  -80.859132   \n",
       "4                      Insurance, Financial Services  33.455613 -112.395596   \n",
       "\n",
       "   Stars  \n",
       "0    3.0  \n",
       "1    3.0  \n",
       "2    2.5  \n",
       "3    4.0  \n",
       "4    5.0  "
      ]
     },
     "execution_count": 13,
     "metadata": {},
     "output_type": "execute_result"
    }
   ],
   "source": [
    "business_df.head()"
   ]
  },
  {
   "cell_type": "code",
   "execution_count": 21,
   "metadata": {},
   "outputs": [],
   "source": [
    "business_df.to_csv('businessdata1.csv', index=False)"
   ]
  },
  {
   "cell_type": "code",
   "execution_count": 22,
   "metadata": {},
   "outputs": [],
   "source": [
    "#exported to csv file to test."
   ]
  },
  {
   "cell_type": "code",
   "execution_count": null,
   "metadata": {},
   "outputs": [],
   "source": []
  }
 ],
 "metadata": {
  "kernelspec": {
   "display_name": "Python 3",
   "language": "python",
   "name": "python3"
  },
  "language_info": {
   "codemirror_mode": {
    "name": "ipython",
    "version": 3
   },
   "file_extension": ".py",
   "mimetype": "text/x-python",
   "name": "python",
   "nbconvert_exporter": "python",
   "pygments_lexer": "ipython3",
   "version": "3.7.4"
  }
 },
 "nbformat": 4,
 "nbformat_minor": 2
}
