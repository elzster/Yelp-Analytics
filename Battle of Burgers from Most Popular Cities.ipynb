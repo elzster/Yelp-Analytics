{
 "cells": [
  {
   "cell_type": "code",
   "execution_count": 98,
   "metadata": {},
   "outputs": [],
   "source": [
    "#import modules and dependencies\n",
    "import requests\n",
    "import json\n",
    "import pandas as pd\n",
    "import numpy as np\n",
    "import matplotlib.pyplot as plt\n",
    "import gmaps\n",
    "from pprint import pprint\n",
    "from config import gkey\n",
    "from config import api_key\n",
    "gmaps.configure(api_key= gkey)"
   ]
  },
  {
   "cell_type": "code",
   "execution_count": 99,
   "metadata": {},
   "outputs": [
    {
     "data": {
      "text/html": [
       "<div>\n",
       "<style scoped>\n",
       "    .dataframe tbody tr th:only-of-type {\n",
       "        vertical-align: middle;\n",
       "    }\n",
       "\n",
       "    .dataframe tbody tr th {\n",
       "        vertical-align: top;\n",
       "    }\n",
       "\n",
       "    .dataframe thead th {\n",
       "        text-align: right;\n",
       "    }\n",
       "</style>\n",
       "<table border=\"1\" class=\"dataframe\">\n",
       "  <thead>\n",
       "    <tr style=\"text-align: right;\">\n",
       "      <th></th>\n",
       "      <th>Number of Restaurants</th>\n",
       "      <th>Average # of Reviews per Restaurant</th>\n",
       "      <th>Percentage of Ratings</th>\n",
       "    </tr>\n",
       "    <tr>\n",
       "      <th>Category</th>\n",
       "      <th></th>\n",
       "      <th></th>\n",
       "      <th></th>\n",
       "    </tr>\n",
       "  </thead>\n",
       "  <tbody>\n",
       "    <tr>\n",
       "      <th>American (New)</th>\n",
       "      <td>7</td>\n",
       "      <td>277.000000</td>\n",
       "      <td>4.357143</td>\n",
       "    </tr>\n",
       "    <tr>\n",
       "      <th>American (Traditional)</th>\n",
       "      <td>5</td>\n",
       "      <td>635.400000</td>\n",
       "      <td>4.200000</td>\n",
       "    </tr>\n",
       "    <tr>\n",
       "      <th>Bars</th>\n",
       "      <td>1</td>\n",
       "      <td>39.000000</td>\n",
       "      <td>4.500000</td>\n",
       "    </tr>\n",
       "    <tr>\n",
       "      <th>Burgers</th>\n",
       "      <td>29</td>\n",
       "      <td>482.137931</td>\n",
       "      <td>4.068966</td>\n",
       "    </tr>\n",
       "    <tr>\n",
       "      <th>Diners</th>\n",
       "      <td>1</td>\n",
       "      <td>335.000000</td>\n",
       "      <td>4.000000</td>\n",
       "    </tr>\n",
       "  </tbody>\n",
       "</table>\n",
       "</div>"
      ],
      "text/plain": [
       "                        Number of Restaurants  \\\n",
       "Category                                        \n",
       "American (New)                              7   \n",
       "American (Traditional)                      5   \n",
       "Bars                                        1   \n",
       "Burgers                                    29   \n",
       "Diners                                      1   \n",
       "\n",
       "                        Average # of Reviews per Restaurant  \\\n",
       "Category                                                      \n",
       "American (New)                                   277.000000   \n",
       "American (Traditional)                           635.400000   \n",
       "Bars                                              39.000000   \n",
       "Burgers                                          482.137931   \n",
       "Diners                                           335.000000   \n",
       "\n",
       "                        Percentage of Ratings  \n",
       "Category                                       \n",
       "American (New)                       4.357143  \n",
       "American (Traditional)               4.200000  \n",
       "Bars                                 4.500000  \n",
       "Burgers                              4.068966  \n",
       "Diners                               4.000000  "
      ]
     },
     "execution_count": 99,
     "metadata": {},
     "output_type": "execute_result"
    }
   ],
   "source": [
    "# Whole State Data - Burger Test >> Create Variables to read CSV >> Going by State over City\n",
    "\n",
    "ny_burger_entry = pd.read_csv('State_NY_CategoryDF.csv', index_col=\"Category\")\n",
    "il_burger_entry = pd.read_csv('State_IL_CategoryDF.csv', index_col=\"Category\")\n",
    "tx_burger_entry = pd.read_csv('State_TX_CategoryDF.csv', index_col=\"Category\")\n",
    "ca_burger_entry = pd.read_csv('State_CA_CategoryDF.csv', index_col=\"Category\")\n",
    "\n",
    "ny_burger_entry.head()"
   ]
  },
  {
   "cell_type": "code",
   "execution_count": 100,
   "metadata": {},
   "outputs": [],
   "source": [
    "merged_table_df = pd.concat([ny_burger_entry, il_burger_entry, ca_burger_entry, tx_burger_entry], ignore_index=True)\n",
    "# merged_table_df"
   ]
  },
  {
   "cell_type": "code",
   "execution_count": 101,
   "metadata": {},
   "outputs": [],
   "source": [
    "ny_burger = ny_burger_entry.loc[[\"Burgers\"]]\n",
    "# ny_burger"
   ]
  },
  {
   "cell_type": "code",
   "execution_count": 102,
   "metadata": {},
   "outputs": [],
   "source": [
    "il_burger = il_burger_entry.loc[[\"Burgers\"]]\n",
    "# il_burger"
   ]
  },
  {
   "cell_type": "code",
   "execution_count": 103,
   "metadata": {},
   "outputs": [],
   "source": [
    "ca_burger = ca_burger_entry.loc[[\"Burgers\"]]\n",
    "# ca_burger"
   ]
  },
  {
   "cell_type": "code",
   "execution_count": 104,
   "metadata": {},
   "outputs": [],
   "source": [
    "tx_burger = tx_burger_entry.loc[[\"Burgers\"]]\n",
    "# tx_burger"
   ]
  },
  {
   "cell_type": "code",
   "execution_count": 105,
   "metadata": {},
   "outputs": [],
   "source": [
    "# Making a dataframe with relevant columns, Reviews and Ratings\n",
    "\n",
    "ny_review_rating = ny_burger[[\"Average # of Reviews per Restaurant\", \"Percentage of Ratings\"]]\n",
    "# ny_review_rating"
   ]
  },
  {
   "cell_type": "code",
   "execution_count": 106,
   "metadata": {},
   "outputs": [],
   "source": [
    "il_review_rating = il_burger[[\"Average # of Reviews per Restaurant\", \"Percentage of Ratings\"]]\n",
    "#  il_review_rating"
   ]
  },
  {
   "cell_type": "code",
   "execution_count": 107,
   "metadata": {},
   "outputs": [],
   "source": [
    "ca_review_rating = ca_burger[[\"Average # of Reviews per Restaurant\", \"Percentage of Ratings\"]]\n",
    "# ca_review_rating"
   ]
  },
  {
   "cell_type": "code",
   "execution_count": 108,
   "metadata": {},
   "outputs": [],
   "source": [
    "tx_review_rating = tx_burger[[\"Average # of Reviews per Restaurant\", \"Percentage of Ratings\"]]\n",
    "# tx_review_rating"
   ]
  },
  {
   "cell_type": "code",
   "execution_count": 146,
   "metadata": {},
   "outputs": [],
   "source": [
    "merged_table_df = pd.concat([tx_review_rating, il_review_rating, ca_review_rating, ny_review_rating], ignore_index=True)\n",
    "# merged_table_df"
   ]
  },
  {
   "cell_type": "code",
   "execution_count": 147,
   "metadata": {},
   "outputs": [
    {
     "data": {
      "text/html": [
       "<div>\n",
       "<style scoped>\n",
       "    .dataframe tbody tr th:only-of-type {\n",
       "        vertical-align: middle;\n",
       "    }\n",
       "\n",
       "    .dataframe tbody tr th {\n",
       "        vertical-align: top;\n",
       "    }\n",
       "\n",
       "    .dataframe thead th {\n",
       "        text-align: right;\n",
       "    }\n",
       "</style>\n",
       "<table border=\"1\" class=\"dataframe\">\n",
       "  <thead>\n",
       "    <tr style=\"text-align: right;\">\n",
       "      <th></th>\n",
       "      <th>Average # of Reviews per Restaurant</th>\n",
       "      <th>Percentage of Ratings</th>\n",
       "    </tr>\n",
       "  </thead>\n",
       "  <tbody>\n",
       "    <tr>\n",
       "      <th>0</th>\n",
       "      <td>296.463415</td>\n",
       "      <td>4.097561</td>\n",
       "    </tr>\n",
       "    <tr>\n",
       "      <th>1</th>\n",
       "      <td>500.482759</td>\n",
       "      <td>4.120690</td>\n",
       "    </tr>\n",
       "    <tr>\n",
       "      <th>2</th>\n",
       "      <td>158.200000</td>\n",
       "      <td>4.000000</td>\n",
       "    </tr>\n",
       "    <tr>\n",
       "      <th>3</th>\n",
       "      <td>482.137931</td>\n",
       "      <td>4.068966</td>\n",
       "    </tr>\n",
       "  </tbody>\n",
       "</table>\n",
       "</div>"
      ],
      "text/plain": [
       "   Average # of Reviews per Restaurant  Percentage of Ratings\n",
       "0                           296.463415               4.097561\n",
       "1                           500.482759               4.120690\n",
       "2                           158.200000               4.000000\n",
       "3                           482.137931               4.068966"
      ]
     },
     "execution_count": 147,
     "metadata": {},
     "output_type": "execute_result"
    }
   ],
   "source": [
    "x_axis = merged_table_df[[\"Average # of Reviews per Restaurant\", \"Percentage of Ratings\"]]\n",
    "x_axis"
   ]
  },
  {
   "cell_type": "code",
   "execution_count": 154,
   "metadata": {},
   "outputs": [
    {
     "name": "stdout",
     "output_type": "stream",
     "text": [
      "Austin, TX Rating:         | 4.09\n",
      "Chicago, IL Rating:        | 4.12\n",
      "San Francisco, CA Rating:  | 4.0\n",
      "New York City, NY Rating:  | 4.09\n"
     ]
    },
    {
     "data": {
      "image/png": "[encoded data removed]",
      "text/plain": [
       "<Figure size 432x288 with 1 Axes>"
      ]
     },
     "metadata": {
      "needs_background": "light"
     },
     "output_type": "display_data"
    }
   ],
   "source": [
    "average_reviews = [296.46, 500.48, 158.20, 482.14]\n",
    "percentage_ratings = [4.09 *20, 4.12*20, 4.00*20, 4.09*20]\n",
    "\n",
    "index = [\"Austin, \\nTexas\", \"Chicago, \\nIllinois\", \"San Francisco, \\nCalifornia\", \"New York City, \\nNew York\"]\n",
    "df = pd.DataFrame({\"Average Reviews\": average_reviews,\n",
    "                  \"Average Rating\": percentage_ratings}, index=index)\n",
    "ax = df.plot.bar(rot=0)\n",
    "ax.legend(loc=4)\n",
    "\n",
    "plt.title(\"Best Burger by Reviews and Rating\\n\", weight=\"bold\");\n",
    "plt.ylabel(\"Reviews and Rating\\n\", weight=\"bold\")\n",
    "plt.xlabel(\"\\nPopular Cities\", weight=\"bold\")\n",
    "\n",
    "# print(percentage_ratings[1])\n",
    "print(f\"Austin, TX Rating:         | {percentage_ratings[0]/20}\")\n",
    "print(f\"Chicago, IL Rating:        | {percentage_ratings[1]/20}\")\n",
    "print(f\"San Francisco, CA Rating:  | {percentage_ratings[2]/20}\")\n",
    "print(f\"New York City, NY Rating:  | {percentage_ratings[3]/20}\")\n",
    "\n",
    "plt.savefig(\"Battle of the Cities.png\")"
   ]
  },
  {
   "cell_type": "code",
   "execution_count": 150,
   "metadata": {},
   "outputs": [],
   "source": [
    "# axes = df.plot.bar(rot=0, subplots=True)\n",
    "# axes[1].legend(loc=3) \n",
    "# axes[0].legend(loc=3) \n",
    "\n",
    "# plt.savefig(\"Seperate Battle of the Cities.png\")"
   ]
  },
  {
   "cell_type": "code",
   "execution_count": null,
   "metadata": {},
   "outputs": [],
   "source": []
  }
 ],
 "metadata": {
  "kernelspec": {
   "display_name": "Python 3",
   "language": "python",
   "name": "python3"
  },
  "language_info": {
   "codemirror_mode": {
    "name": "ipython",
    "version": 3
   },
   "file_extension": ".py",
   "mimetype": "text/x-python",
   "name": "python",
   "nbconvert_exporter": "python",
   "pygments_lexer": "ipython3",
   "version": "3.7.3"
  }
 },
 "nbformat": 4,
 "nbformat_minor": 2
}
